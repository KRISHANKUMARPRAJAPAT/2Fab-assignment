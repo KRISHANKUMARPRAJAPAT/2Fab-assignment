{
 "cells": [
  {
   "cell_type": "markdown",
   "id": "8bb03d60-0224-4eb8-a0ad-be62adefaa95",
   "metadata": {},
   "source": [
    "#### Q.1 Explain with an example each when to use a for loop and a while loop."
   ]
  },
  {
   "cell_type": "markdown",
   "id": "9c8c3ccb-8415-48e5-8bac-ea61dbe167f7",
   "metadata": {},
   "source": [
    "Ans:1  \n",
    "For Loop: A for loop is ideal when you know exactly how many times you want to iterate through a sequence or collection of items."
   ]
  },
  {
   "cell_type": "code",
   "execution_count": 2,
   "id": "6067fb6e-9ca2-4f2c-befe-3490374cfe28",
   "metadata": {},
   "outputs": [
    {
     "name": "stdout",
     "output_type": "stream",
     "text": [
      "1\n",
      "2\n",
      "3\n",
      "4\n",
      "5\n"
     ]
    }
   ],
   "source": [
    "l1 = [1, 2, 3, 4, 5]\n",
    "for l1 in l1:\n",
    "    print(l1)"
   ]
  },
  {
   "cell_type": "markdown",
   "id": "f6ac4b45-44f1-48e7-8d0d-f313fbdc7399",
   "metadata": {},
   "source": [
    "While Loop: A while loop is ideal when you want to keep iterating until a certain condition is met.   \n",
    "Here's an example"
   ]
  },
  {
   "cell_type": "code",
   "execution_count": 3,
   "id": "b8fdfdcf-a89e-4e8a-838f-8710b3d4202b",
   "metadata": {},
   "outputs": [
    {
     "name": "stdout",
     "output_type": "stream",
     "text": [
      "0\n",
      "1\n",
      "2\n",
      "3\n",
      "4\n"
     ]
    }
   ],
   "source": [
    "count = 0\n",
    "while count < 5:\n",
    "    print(count)\n",
    "    count += 1"
   ]
  },
  {
   "cell_type": "markdown",
   "id": "ffa8d903-67fe-4358-8d17-2c84b4823595",
   "metadata": {},
   "source": [
    "### Q2. Write a python program to print the sum and product of the first 10 natural numbers using for and while loop."
   ]
  },
  {
   "cell_type": "markdown",
   "id": "fce1cfb1-a439-469d-82fc-2db859ff4a41",
   "metadata": {},
   "source": [
    "#Ans:2  \n",
    "Using a for loop:"
   ]
  },
  {
   "cell_type": "code",
   "execution_count": 5,
   "id": "a6d8cc69-c498-4ff6-bd85-fd9f8acb2099",
   "metadata": {},
   "outputs": [
    {
     "name": "stdout",
     "output_type": "stream",
     "text": [
      "Sum of the first 10 natural numbers: 55\n",
      "Product of the first 10 natural numbers: 3628800\n"
     ]
    }
   ],
   "source": [
    "# Calculate the sum of the first 10 natural numbers using a for loop\n",
    "sum = 0\n",
    "for i in range(1, 11):\n",
    "    sum += i\n",
    "print(\"Sum of the first 10 natural numbers:\", sum)\n",
    "\n",
    "# Calculate the product of the first 10 natural numbers using a for loop\n",
    "product = 1\n",
    "for i in range(1, 11):\n",
    "    product *= i\n",
    "print(\"Product of the first 10 natural numbers:\", product)"
   ]
  },
  {
   "cell_type": "markdown",
   "id": "741cd16b-6cee-4a16-88c6-1a54fb314b0f",
   "metadata": {},
   "source": [
    "Using a while loop:"
   ]
  },
  {
   "cell_type": "code",
   "execution_count": 6,
   "id": "9ceb15dd-0ede-4cc3-a2c7-04148b7591b7",
   "metadata": {},
   "outputs": [
    {
     "name": "stdout",
     "output_type": "stream",
     "text": [
      "Sum of the first 10 natural numbers: 55\n",
      "Product of the first 10 natural numbers: 3628800\n"
     ]
    }
   ],
   "source": [
    "# Calculate the sum of the first 10 natural numbers using a while loop\n",
    "sum = 0\n",
    "i = 1\n",
    "while i <= 10:\n",
    "    sum += i\n",
    "    i += 1\n",
    "print(\"Sum of the first 10 natural numbers:\", sum)\n",
    "\n",
    "# Calculate the product of the first 10 natural numbers using a while loop\n",
    "product = 1\n",
    "i = 1\n",
    "while i <= 10:\n",
    "    product *= i\n",
    "    i += 1\n",
    "print(\"Product of the first 10 natural numbers:\", product)"
   ]
  },
  {
   "cell_type": "markdown",
   "id": "614f4538-08ea-44f4-9c44-a44c88ac0778",
   "metadata": {},
   "source": [
    "Both program's output will be the same result."
   ]
  },
  {
   "cell_type": "markdown",
   "id": "8997aebd-006e-45eb-a652-2af9a02d4eb9",
   "metadata": {},
   "source": [
    "#### Q3. Create a python program to compute the electricity bill for a household. \n",
    "### The per-unit charges in rupees are as follows: For the first 100 units, the user will be charged Rs. 4.5 per unit, for the next 100 units, the user will be charged Rs. 6 per unit, and for the next 100 units, the user will be charged Rs. 10 per unit, After 300 units and above the user will be charged Rs. 20 per unit. You are required to take the units of electricity consumed in a month from the user as input. Your program must pass this test case: when the unit of electricity consumed by the user in a month is 310, the total electricity bill should be 2250."
   ]
  },
  {
   "cell_type": "markdown",
   "id": "d21e4053-b4f7-4210-aa5d-d4293ac6a18e",
   "metadata": {},
   "source": [
    "Ans:3 this is a Python program that calculates the electricity bill for a household based on the units consumed:-"
   ]
  },
  {
   "cell_type": "code",
   "execution_count": 10,
   "id": "92593187-2613-4dee-af73-76a0dd3d29f5",
   "metadata": {},
   "outputs": [
    {
     "name": "stdin",
     "output_type": "stream",
     "text": [
      "Enter the units of electricity consumed:  115\n"
     ]
    },
    {
     "name": "stdout",
     "output_type": "stream",
     "text": [
      "Total electricity bill: Rs. 540.0\n"
     ]
    }
   ],
   "source": [
    "units = int(input(\"Enter the units of electricity consumed: \"))\n",
    "\n",
    "bill = 0\n",
    "\n",
    "# calculate the bill based on per-unit charges\n",
    "if units <= 100:\n",
    "    bill = units*4.5\n",
    "elif units <= 200:\n",
    "    bill = 100*4.5 + (units-100)*6\n",
    "elif units <= 300:\n",
    "    bill = 100*4.5 + 100*6 +(units-200)*10\n",
    "else:\n",
    "    bill = 100*4.5 + 100*6+ 100*10 + (units-300)*20\n",
    "\n",
    "print(\"Total electricity bill: Rs.\", bill)"
   ]
  },
  {
   "cell_type": "markdown",
   "id": "a60d16d5-2875-40c1-8ec6-6228a9a04681",
   "metadata": {},
   "source": [
    "### Q4. Create a list of numbers from 1 to 100. Use for loop and while loop to calculate the cube of each number and if the cube of that number is divisible by 4 or 5 then append that number in a list and print that list."
   ]
  },
  {
   "cell_type": "markdown",
   "id": "27488bb7-6fd9-4896-87c1-9f4a64d39330",
   "metadata": {},
   "source": [
    "Ans:4   Using a for loop:"
   ]
  },
  {
   "cell_type": "code",
   "execution_count": 11,
   "id": "321415a2-fd64-4226-9bd7-a9c70009456c",
   "metadata": {},
   "outputs": [
    {
     "name": "stdout",
     "output_type": "stream",
     "text": [
      "Numbers whose cubes are divisible by 4 or 5: [2, 4, 5, 6, 8, 10, 12, 14, 15, 16, 18, 20, 22, 24, 25, 26, 28, 30, 32, 34, 35, 36, 38, 40, 42, 44, 45, 46, 48, 50, 52, 54, 55, 56, 58, 60, 62, 64, 65, 66, 68, 70, 72, 74, 75, 76, 78, 80, 82, 84, 85, 86, 88, 90, 92, 94, 95, 96, 98, 100]\n"
     ]
    }
   ],
   "source": [
    "numbers = list(range(1, 101))\n",
    "\n",
    "result = []\n",
    "\n",
    "# Calculate the cube of each number using a for loop\n",
    "for number in numbers:\n",
    "    cube = number ** 3\n",
    "    if cube % 4 == 0 or cube % 5 == 0:\n",
    "        result.append(number)\n",
    "        \n",
    "print(\"Numbers whose cubes are divisible by 4 or 5:\", result)\n"
   ]
  },
  {
   "cell_type": "markdown",
   "id": "988e5395-f488-445b-b075-26e508e12be4",
   "metadata": {},
   "source": [
    "Using a while loop:"
   ]
  },
  {
   "cell_type": "code",
   "execution_count": 12,
   "id": "b83cefdf-e90a-4b0a-b98e-78ff5cc17179",
   "metadata": {},
   "outputs": [
    {
     "name": "stdout",
     "output_type": "stream",
     "text": [
      "Numbers whose cubes are divisible by 4 or 5: [2, 4, 5, 6, 8, 10, 12, 14, 15, 16, 18, 20, 22, 24, 25, 26, 28, 30, 32, 34, 35, 36, 38, 40, 42, 44, 45, 46, 48, 50, 52, 54, 55, 56, 58, 60, 62, 64, 65, 66, 68, 70, 72, 74, 75, 76, 78, 80, 82, 84, 85, 86, 88, 90, 92, 94, 95, 96, 98, 100]\n"
     ]
    }
   ],
   "source": [
    "numbers = list(range(1, 101))\n",
    "\n",
    "result = []\n",
    "\n",
    "# Calculate the cube of each number using a while loop\n",
    "i = 0\n",
    "while i < len(numbers):\n",
    "    cube = numbers[i] ** 3\n",
    "    if cube % 4 == 0 or cube % 5 == 0:\n",
    "        result.append(numbers[i])\n",
    "    i += 1\n",
    "\n",
    "print(\"Numbers whose cubes are divisible by 4 or 5:\", result)\n"
   ]
  },
  {
   "cell_type": "markdown",
   "id": "dc03578c-8fe6-45c2-bdff-085ef82c8531",
   "metadata": {},
   "source": [
    "Both programs will output the same result."
   ]
  },
  {
   "cell_type": "markdown",
   "id": "88142228-81b7-43db-8348-1bd53bcbeec3",
   "metadata": {},
   "source": [
    "## Q5. Write a program to filter count vowels in the below-given string. string = \"I want to become a data scientist\""
   ]
  },
  {
   "cell_type": "code",
   "execution_count": 15,
   "id": "88c281ff-f442-41c9-abbc-7b5ba4ecd08e",
   "metadata": {},
   "outputs": [
    {
     "name": "stdout",
     "output_type": "stream",
     "text": [
      "Number of vowels in the string: 12\n"
     ]
    }
   ],
   "source": [
    "#Ans:5 \n",
    "string = \"I want to become a data scientist\"\n",
    "\n",
    "def count_vowels(s):\n",
    "    vowels = ['a','e','i','o','u']\n",
    "    s = s.lower()\n",
    "    count = 0\n",
    "    for char in s:\n",
    "        if char in vowels:\n",
    "            count += 1\n",
    "    return count\n",
    "\n",
    "num_vowels = count_vowels(string)\n",
    "\n",
    "print(\"Number of vowels in the string:\", num_vowels)\n"
   ]
  },
  {
   "cell_type": "code",
   "execution_count": null,
   "id": "61917cfa-6aad-481c-87f5-e365282b484d",
   "metadata": {},
   "outputs": [],
   "source": []
  }
 ],
 "metadata": {
  "kernelspec": {
   "display_name": "Python 3 (ipykernel)",
   "language": "python",
   "name": "python3"
  },
  "language_info": {
   "codemirror_mode": {
    "name": "ipython",
    "version": 3
   },
   "file_extension": ".py",
   "mimetype": "text/x-python",
   "name": "python",
   "nbconvert_exporter": "python",
   "pygments_lexer": "ipython3",
   "version": "3.10.8"
  }
 },
 "nbformat": 4,
 "nbformat_minor": 5
}
